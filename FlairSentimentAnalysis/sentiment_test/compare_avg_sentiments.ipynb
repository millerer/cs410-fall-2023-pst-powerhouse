{
 "cells": [
  {
   "cell_type": "markdown",
   "metadata": {},
   "source": [
    "Compares the average sentiment score obtained using 10 randomly sampled reviews (used in main.py) versus 100 randomly sampled reviews"
   ]
  },
  {
   "cell_type": "code",
   "execution_count": 11,
   "metadata": {},
   "outputs": [],
   "source": [
    "import pandas as pd\n",
    "import matplotlib.pyplot as plt\n",
    "import numpy as np"
   ]
  },
  {
   "cell_type": "code",
   "execution_count": 15,
   "metadata": {},
   "outputs": [],
   "source": [
    "N_100 = pd.read_csv(\"../output/avg_sentiment_per_game_N100.csv\")\n",
    "N_10 = pd.read_csv(\"../output/avg_sentiment_per_game_N10.csv\")"
   ]
  },
  {
   "cell_type": "code",
   "execution_count": 20,
   "metadata": {},
   "outputs": [
    {
     "data": {
      "text/html": [
       "<div>\n",
       "<style scoped>\n",
       "    .dataframe tbody tr th:only-of-type {\n",
       "        vertical-align: middle;\n",
       "    }\n",
       "\n",
       "    .dataframe tbody tr th {\n",
       "        vertical-align: top;\n",
       "    }\n",
       "\n",
       "    .dataframe thead th {\n",
       "        text-align: right;\n",
       "    }\n",
       "</style>\n",
       "<table border=\"1\" class=\"dataframe\">\n",
       "  <thead>\n",
       "    <tr style=\"text-align: right;\">\n",
       "      <th></th>\n",
       "      <th>app_name</th>\n",
       "      <th>avg_sentiment_N100</th>\n",
       "      <th>avg_sentiment_N10</th>\n",
       "      <th>sentiment_difference</th>\n",
       "      <th>pos_to_neg</th>\n",
       "      <th>neg_to_pos</th>\n",
       "    </tr>\n",
       "  </thead>\n",
       "  <tbody>\n",
       "    <tr>\n",
       "      <th>0</th>\n",
       "      <td>神明的一天世界-God's One Day World</td>\n",
       "      <td>0.138</td>\n",
       "      <td>-0.006</td>\n",
       "      <td>0.144</td>\n",
       "      <td>True</td>\n",
       "      <td>False</td>\n",
       "    </tr>\n",
       "    <tr>\n",
       "      <th>1</th>\n",
       "      <td>! That Bastard Is Trying To Steal Our Gold !</td>\n",
       "      <td>-0.503</td>\n",
       "      <td>-0.779</td>\n",
       "      <td>0.276</td>\n",
       "      <td>False</td>\n",
       "      <td>False</td>\n",
       "    </tr>\n",
       "    <tr>\n",
       "      <th>2</th>\n",
       "      <td>!\"We Are The Dwarves\"!</td>\n",
       "      <td>0.193</td>\n",
       "      <td>0.199</td>\n",
       "      <td>-0.006</td>\n",
       "      <td>False</td>\n",
       "      <td>False</td>\n",
       "    </tr>\n",
       "    <tr>\n",
       "      <th>3</th>\n",
       "      <td>\"Glow Ball\" - The billiard puzzle game</td>\n",
       "      <td>-0.907</td>\n",
       "      <td>-0.999</td>\n",
       "      <td>0.092</td>\n",
       "      <td>False</td>\n",
       "      <td>False</td>\n",
       "    </tr>\n",
       "    <tr>\n",
       "      <th>4</th>\n",
       "      <td>#SelfieTennis</td>\n",
       "      <td>0.193</td>\n",
       "      <td>0.219</td>\n",
       "      <td>-0.026</td>\n",
       "      <td>False</td>\n",
       "      <td>False</td>\n",
       "    </tr>\n",
       "  </tbody>\n",
       "</table>\n",
       "</div>"
      ],
      "text/plain": [
       "                                       app_name  avg_sentiment_N100  \\\n",
       "0                   神明的一天世界-God's One Day World               0.138   \n",
       "1  ! That Bastard Is Trying To Steal Our Gold !              -0.503   \n",
       "2                        !\"We Are The Dwarves\"!               0.193   \n",
       "3        \"Glow Ball\" - The billiard puzzle game              -0.907   \n",
       "4                                 #SelfieTennis               0.193   \n",
       "\n",
       "   avg_sentiment_N10  sentiment_difference  pos_to_neg  neg_to_pos  \n",
       "0             -0.006                 0.144        True       False  \n",
       "1             -0.779                 0.276       False       False  \n",
       "2              0.199                -0.006       False       False  \n",
       "3             -0.999                 0.092       False       False  \n",
       "4              0.219                -0.026       False       False  "
      ]
     },
     "execution_count": 20,
     "metadata": {},
     "output_type": "execute_result"
    }
   ],
   "source": [
    "sentiment_diff = pd.merge(N_100, N_10, on='app_name', suffixes=('_N100', '_N10'))\n",
    "sentiment_diff['sentiment_difference'] = sentiment_diff['avg_sentiment_N100'] - sentiment_diff['avg_sentiment_N10']\n",
    "\n",
    "sentiment_diff.head()"
   ]
  },
  {
   "cell_type": "code",
   "execution_count": 19,
   "metadata": {},
   "outputs": [
    {
     "name": "stdout",
     "output_type": "stream",
     "text": [
      "Average difference: 0.011, min: -0.946, max: 0.917\n"
     ]
    }
   ],
   "source": [
    "avg_diff = round(np.average(sentiment_diff['sentiment_difference']), 3)\n",
    "max_diff = round(np.max(sentiment_diff['sentiment_difference']), 3)\n",
    "min_diff = round(np.min(sentiment_diff['sentiment_difference']), 3)\n",
    "\n",
    "print(\"Average difference: {}, min: {}, max: {}\".format(avg_diff, min_diff, max_diff))"
   ]
  },
  {
   "cell_type": "code",
   "execution_count": 16,
   "metadata": {},
   "outputs": [
    {
     "data": {
      "image/png": "[encoded data removed]",
      "text/plain": [
       "<Figure size 640x480 with 1 Axes>"
      ]
     },
     "metadata": {},
     "output_type": "display_data"
    }
   ],
   "source": [
    "plt.hist(sentiment_diff['sentiment_difference'], bins=10, edgecolor='black')\n",
    "plt.xlabel('Sentiment Difference (N100 - N10)')\n",
    "plt.ylabel('Frequency')\n",
    "plt.title('Histogram of Sentiment Difference')\n",
    "plt.show()"
   ]
  },
  {
   "cell_type": "code",
   "execution_count": 23,
   "metadata": {},
   "outputs": [],
   "source": [
    "sentiment_diff.to_csv(\"../output/Sentiment_difference_from_N100_to_N10.csv\")"
   ]
  }
 ],
 "metadata": {
  "kernelspec": {
   "display_name": "project",
   "language": "python",
   "name": "python3"
  },
  "language_info": {
   "codemirror_mode": {
    "name": "ipython",
    "version": 3
   },
   "file_extension": ".py",
   "mimetype": "text/x-python",
   "name": "python",
   "nbconvert_exporter": "python",
   "pygments_lexer": "ipython3",
   "version": "3.11.5"
  }
 },
 "nbformat": 4,
 "nbformat_minor": 2
}
